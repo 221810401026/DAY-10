{
 "cells": [
  {
   "cell_type": "markdown",
   "metadata": {},
   "source": [
    "# String Formatting\n",
    "  * Classical version\n",
    "    * Current version\n",
    "     \n",
    "        \n",
    "# Standard Libraries\n",
    "* File I/O\n",
    "* Regular Expression\n",
    "* Datetime\n",
    "* Math (numerical and Mathematical)\n",
    "# Modes of the file I/O\n",
    "- 'w' -- This mode is used to file writing\n",
    "      -- If the file is not present first it creates the file and write so       me data to it\n",
    "      -- If the file is already present then it will rewrite the previous       copy content. "
   ]
  },
  {
   "cell_type": "markdown",
   "metadata": {},
   "source": [
    "### File Handling in python\n",
    "- File :- Document containing information resides on the permanent storage\n",
    "- Different types of files :- txt,doc,pdf,csv and etc..\n",
    "- Input -- Keyboard\n",
    "- Output -- File"
   ]
  },
  {
   "cell_type": "code",
   "execution_count": 3,
   "metadata": {},
   "outputs": [
    {
     "name": "stdout",
     "output_type": "stream",
     "text": [
      "file is created and data has written\n"
     ]
    }
   ],
   "source": [
    "# Function to create a file and write to the file\n",
    "def createfile(filename):\n",
    "    f = open(filename,'w')\n",
    "    for i in range(10):\n",
    "        f.write('this is %d line' % i)\n",
    "    print(\"file is created and data has written\")\n",
    "    return\n",
    "createfile('file1.txt')"
   ]
  },
  {
   "cell_type": "code",
   "execution_count": 5,
   "metadata": {
    "scrolled": true
   },
   "outputs": [
    {
     "name": "stdout",
     "output_type": "stream",
     "text": [
      " Volume in drive C has no label.\n",
      " Volume Serial Number is 1602-CA06\n",
      "\n",
      " Directory of C:\\Users\\mpilab\n",
      "\n",
      "10-07-2019  14:30            53,786  Day 6,7,8,9.ipynb\n",
      "11-07-2019  09:37    <DIR>          .\n",
      "11-07-2019  09:37    <DIR>          ..\n",
      "13-06-2019  10:57    <DIR>          .anaconda\n",
      "05-07-2019  10:23             2,110 .bash_history\n",
      "11-07-2019  09:38    <DIR>          .conda\n",
      "11-07-2019  09:10                43 .condarc\n",
      "05-07-2019  14:25    <DIR>          .continuum\n",
      "11-07-2019  09:12    <DIR>          .ipynb_checkpoints\n",
      "13-06-2019  11:23    <DIR>          .ipython\n",
      "06-07-2019  09:52    <DIR>          .jupyter\n",
      "09-08-2018  14:25    <DIR>          .mozilla\n",
      "09-08-2018  14:25    <DIR>          .vivado_hls\n",
      "13-06-2019  10:54    <DIR>          Anaconda3\n",
      "09-07-2019  17:31             2,780 assignment.ipynb\n",
      "10-07-2019  16:34            11,337 ASSIGNMENT1234.ipynb\n",
      "26-06-2018  14:57    <DIR>          Contacts\n",
      "01-07-2019  10:01                12 day 1 221810401041.txt\n",
      "11-07-2019  09:37             5,086 Day10 .ipynb\n",
      "06-07-2019  16:13    <DIR>          Desktop\n",
      "10-07-2019  16:49    <DIR>          Documents\n",
      "10-07-2019  16:43    <DIR>          Downloads\n",
      "26-06-2018  14:57    <DIR>          Favorites\n",
      "21-06-2019  14:55    <DIR>          file\n",
      "11-07-2019  09:35               140 file1.txt\n",
      "19-06-2019  15:48    <DIR>          gitam-june-2019\n",
      "19-06-2019  13:55    <DIR>          gitam-junr-2019\n",
      "05-07-2019  15:53             4,488 kit.ipynb\n",
      "26-06-2018  14:57    <DIR>          Links\n",
      "26-06-2018  14:57    <DIR>          Music\n",
      "26-06-2018  14:57    <DIR>          Pictures\n",
      "04-07-2019  10:10    <DIR>          problem\n",
      "05-07-2019  10:23    <DIR>          pythonprog\n",
      "26-06-2018  14:57    <DIR>          Saved Games\n",
      "26-06-2018  14:57    <DIR>          Searches\n",
      "21-06-2019  09:56    <DIR>          shanu\n",
      "04-07-2019  10:10    <DIR>          solving\n",
      "04-07-2019  14:52    <DIR>          test2\n",
      "13-06-2019  11:23               734 Untitled.ipynb\n",
      "21-06-2019  14:55                 0 untitled.txt\n",
      "21-06-2019  14:54               555 Untitled1.ipynb\n",
      "21-06-2019  15:13               555 Untitled2.ipynb\n",
      "22-06-2019  12:44            13,970 Untitled3.ipynb\n",
      "05-07-2019  14:59             2,481 Untitled4.ipynb\n",
      "09-07-2019  16:13             1,155 Untitled5.ipynb\n",
      "26-06-2018  14:57    <DIR>          Videos\n",
      "10-07-2018  11:33    <DIR>          Xilinx\n",
      "              16 File(s)         99,232 bytes\n",
      "              31 Dir(s)  149,407,117,312 bytes free\n"
     ]
    }
   ],
   "source": [
    "ls"
   ]
  },
  {
   "cell_type": "code",
   "execution_count": 8,
   "metadata": {},
   "outputs": [
    {
     "name": "stdout",
     "output_type": "stream",
     "text": [
      "file is created and data has written \n"
     ]
    }
   ],
   "source": [
    "def createfile(filename):\n",
    "    f = open(filename,'w')\n",
    "    f.write('testing...\\n')\n",
    "    print(\"file is created and data has written \")\n",
    "    return\n",
    "createfile('file1.txt')\n",
    "    "
   ]
  },
  {
   "cell_type": "code",
   "execution_count": 12,
   "metadata": {},
   "outputs": [
    {
     "name": "stdout",
     "output_type": "stream",
     "text": [
      "file is created and data has written \n"
     ]
    }
   ],
   "source": [
    "def appenddata(filename):\n",
    "    f = open(filename,'a')\n",
    "    f.write(\"new line 1 \\n\")\n",
    "    f.write(\"new line 2 \\n\")\n",
    "    print(\"file is created and successfully data has written \")\n",
    "    return\n",
    "createfile('file2.txt')"
   ]
  },
  {
   "cell_type": "code",
   "execution_count": 15,
   "metadata": {},
   "outputs": [
    {
     "name": "stdout",
     "output_type": "stream",
     "text": [
      "testing...\n",
      "\n"
     ]
    }
   ],
   "source": [
    "# Fuction to read of the file\n",
    "def readfiledata(filename):\n",
    "    f = open(filename,'r')\n",
    "    if f.mode == 'r':\n",
    "        x = f.read()\n",
    "        print(x)\n",
    "    f.close()\n",
    "    return\n",
    "readfiledata('file2.txt')"
   ]
  },
  {
   "cell_type": "code",
   "execution_count": 26,
   "metadata": {},
   "outputs": [
    {
     "name": "stdout",
     "output_type": "stream",
     "text": [
      "Enter the file namedat.txt\n",
      "Enter the mode of the filea\n",
      "the data successfully written\n"
     ]
    }
   ],
   "source": [
    "# Function to read the file\n",
    "def fileoperations(filename,mode):\n",
    "    with open(filename,mode) as f:\n",
    "        if f.mode == 'r':\n",
    "            data = f.read()\n",
    "            print(data)\n",
    "        elif f.mode == 'a':\n",
    "            f.write('data to the file')\n",
    "            print('the data successfully written')\n",
    "    f.close()\n",
    "    return\n",
    "filename = input('Enter the file name')\n",
    "mode = input('Enter the mode of the file')\n",
    "fileoperations(filename,mode)"
   ]
  },
  {
   "cell_type": "code",
   "execution_count": 36,
   "metadata": {},
   "outputs": [
    {
     "name": "stdout",
     "output_type": "stream",
     "text": [
      "enter the file name : data.txt\n",
      "enter the word : This\n"
     ]
    },
    {
     "data": {
      "text/plain": [
       "0"
      ]
     },
     "execution_count": 36,
     "metadata": {},
     "output_type": "execute_result"
    }
   ],
   "source": [
    "#data analysis\n",
    "# word count program\n",
    "def wordcount(filename,word):\n",
    "    with open(filename,'r') as f:\n",
    "        if f.mode == 'r':\n",
    "            x = f.read()\n",
    "            li = x.split()\n",
    "    cnt = li.count(word)\n",
    "    return cnt\n",
    "filename = input('enter the file name : ')\n",
    "word = input('enter the word : ')\n",
    "wordcount(filename,word)"
   ]
  },
  {
   "cell_type": "code",
   "execution_count": 41,
   "metadata": {},
   "outputs": [],
   "source": [
    "# character count from the given  file\n"
   ]
  },
  {
   "cell_type": "code",
   "execution_count": 4,
   "metadata": {
    "scrolled": true
   },
   "outputs": [
    {
     "name": "stdout",
     "output_type": "stream",
     "text": [
      "\n",
      " list containing multilpe values: \n",
      "gitam\n",
      "gitam\n"
     ]
    }
   ],
   "source": [
    "list = [\"gitam\", \"for\", \"gitam\"]\n",
    "print(\"\\n list containing multilpe values: \")\n",
    "print(list[0])\n",
    "print(list[2])"
   ]
  },
  {
   "cell_type": "code",
   "execution_count": null,
   "metadata": {},
   "outputs": [],
   "source": [
    "# Character count from the given file\n",
    "def charCount(filename):\n",
    "    with open(filename,'r') as f:\n",
    "        if f.mode == 'r':\n",
    "            x=f.read()\n",
    "            li = list(x)\n",
    "    return len(li)\n",
    "filename = input('Enter the filename : ')s\n",
    "charCount(filename)"
   ]
  },
  {
   "cell_type": "code",
   "execution_count": null,
   "metadata": {},
   "outputs": [],
   "source": [
    "# Function to find the no of lines in the input  file\n",
    "# Input -- filename(file2.txt)\n",
    "# Output -- no of lines(12)\n",
    "def countoflines(filename):\n",
    "    if f.mode == 'r':\n",
    "        x= f.spliy\n",
    "        li = x.split(\"\\n\")\n",
    "        return()\n",
    "          "
   ]
  },
  {
   "cell_type": "code",
   "execution_count": null,
   "metadata": {},
   "outputs": [],
   "source": [
    "# function to print the upper and lower characters\n",
    "def casecount(filename):\n",
    "    cntupper = 0\n",
    "    cntlower = 0\n",
    "    with open(filename,'r') as f:\n",
    "        if f.mode == 'r':\n",
    "            x = f.read()\n",
    "            li = list(x)\n",
    "    for i in li:\n",
    "        if i.isupper():\n",
    "            cntupper += 1 # cntupper = cntupper + 1\n",
    "        elif i.islower():\n",
    "            cntlower += 1 # cntlower = cntlower + 1\n",
    "    output = 'uper case = {0} , lower case = {1}'.format(cntlower,cntupper)\n",
    "    return output\n",
    "filename = input('enter the filename : ')\n",
    "casecount(filename)"
   ]
  },
  {
   "cell_type": "markdown",
   "metadata": {},
   "source": [
    "### math,random,os\n",
    "- os package it contains the certain nethods which can work with os"
   ]
  },
  {
   "cell_type": "code",
   "execution_count": 5,
   "metadata": {},
   "outputs": [
    {
     "name": "stdout",
     "output_type": "stream",
     "text": [
      " Volume in drive C has no label.\n",
      " Volume Serial Number is 1602-CA06\n",
      "\n",
      " Directory of C:\\Users\\mpilab\n",
      "\n",
      "10-07-2019  14:30            53,786  Day 6,7,8,9.ipynb\n",
      "11-07-2019  12:44    <DIR>          .\n",
      "11-07-2019  12:44    <DIR>          ..\n",
      "13-06-2019  10:57    <DIR>          .anaconda\n",
      "05-07-2019  10:23             2,110 .bash_history\n",
      "11-07-2019  12:48    <DIR>          .conda\n",
      "11-07-2019  09:10                43 .condarc\n",
      "05-07-2019  14:25    <DIR>          .continuum\n",
      "11-07-2019  09:12    <DIR>          .ipynb_checkpoints\n",
      "13-06-2019  11:23    <DIR>          .ipython\n",
      "06-07-2019  09:52    <DIR>          .jupyter\n",
      "09-08-2018  14:25    <DIR>          .mozilla\n",
      "09-08-2018  14:25    <DIR>          .vivado_hls\n",
      "13-06-2019  10:54    <DIR>          Anaconda3\n",
      "09-07-2019  17:31             2,780 assignment.ipynb\n",
      "10-07-2019  16:34            11,337 ASSIGNMENT1234.ipynb\n",
      "26-06-2018  14:57    <DIR>          Contacts\n",
      "11-07-2019  10:35                16 dat.txt\n",
      "11-07-2019  10:29                16 data.txt\n",
      "01-07-2019  10:01                12 day 1 221810401041.txt\n",
      "11-07-2019  12:44            11,127 Day10 .ipynb\n",
      "06-07-2019  16:13    <DIR>          Desktop\n",
      "10-07-2019  16:49    <DIR>          Documents\n",
      "10-07-2019  16:43    <DIR>          Downloads\n",
      "26-06-2018  14:57    <DIR>          Favorites\n",
      "21-06-2019  14:55    <DIR>          file\n",
      "11-07-2019  09:55                12 file1.txt\n",
      "11-07-2019  10:08                12 file2.txt\n",
      "19-06-2019  15:48    <DIR>          gitam-june-2019\n",
      "19-06-2019  13:55    <DIR>          gitam-junr-2019\n",
      "05-07-2019  15:53             4,488 kit.ipynb\n",
      "26-06-2018  14:57    <DIR>          Links\n",
      "26-06-2018  14:57    <DIR>          Music\n",
      "26-06-2018  14:57    <DIR>          Pictures\n",
      "04-07-2019  10:10    <DIR>          problem\n",
      "05-07-2019  10:23    <DIR>          pythonprog\n",
      "26-06-2018  14:57    <DIR>          Saved Games\n",
      "26-06-2018  14:57    <DIR>          Searches\n",
      "21-06-2019  09:56    <DIR>          shanu\n",
      "04-07-2019  10:10    <DIR>          solving\n",
      "04-07-2019  14:52    <DIR>          test2\n",
      "13-06-2019  11:23               734 Untitled.ipynb\n",
      "21-06-2019  14:55                 0 untitled.txt\n",
      "21-06-2019  14:54               555 Untitled1.ipynb\n",
      "21-06-2019  15:13               555 Untitled2.ipynb\n",
      "22-06-2019  12:44            13,970 Untitled3.ipynb\n",
      "05-07-2019  14:59             2,481 Untitled4.ipynb\n",
      "09-07-2019  16:13             1,155 Untitled5.ipynb\n",
      "26-06-2018  14:57    <DIR>          Videos\n",
      "10-07-2018  11:33    <DIR>          Xilinx\n",
      "              19 File(s)        105,189 bytes\n",
      "              31 Dir(s)  149,379,043,328 bytes free\n"
     ]
    }
   ],
   "source": [
    "ls\n"
   ]
  },
  {
   "cell_type": "code",
   "execution_count": null,
   "metadata": {},
   "outputs": [],
   "source": [
    "cd Desktop/ProbsolvingProgramming/git"
   ]
  },
  {
   "cell_type": "code",
   "execution_count": null,
   "metadata": {},
   "outputs": [],
   "source": [
    "ls"
   ]
  },
  {
   "cell_type": "code",
   "execution_count": 27,
   "metadata": {},
   "outputs": [
    {
     "name": "stdout",
     "output_type": "stream",
     "text": [
      "C:\\Users\\mpilab\\Desktop\n"
     ]
    }
   ],
   "source": [
    "cd .."
   ]
  },
  {
   "cell_type": "code",
   "execution_count": 30,
   "metadata": {},
   "outputs": [
    {
     "data": {
      "text/plain": [
       "[]"
      ]
     },
     "execution_count": 30,
     "metadata": {},
     "output_type": "execute_result"
    }
   ],
   "source": [
    "import os\n",
    "os.listdir('git/')  # Listdir()  --ls"
   ]
  },
  {
   "cell_type": "code",
   "execution_count": null,
   "metadata": {},
   "outputs": [],
   "source": [
    "from pathlib import path\n",
    "dirpath = path('git/')\n",
    "for i in dirpath.iterdir():\n",
    "    if i.is_dir():\n",
    "        print(i.name)"
   ]
  },
  {
   "cell_type": "code",
   "execution_count": 39,
   "metadata": {},
   "outputs": [],
   "source": [
    "dirpath = \"git/\"\n",
    "for i in os.listdir(dirpath):\n",
    "    if os.path.isdir(os.path.join(dirpath,i)):\n",
    "        print(i)"
   ]
  },
  {
   "cell_type": "code",
   "execution_count": null,
   "metadata": {},
   "outputs": [],
   "source": [
    "# Creating a Single Directory\n",
    "import os\n",
    "os.mkdir('singleDirectory')"
   ]
  },
  {
   "cell_type": "code",
   "execution_count": 47,
   "metadata": {},
   "outputs": [],
   "source": [
    "import pathlib\n",
    "p = pathlib.Path('testfolder')\n",
    "p.mkdir()"
   ]
  },
  {
   "cell_type": "code",
   "execution_count": 52,
   "metadata": {
    "scrolled": true
   },
   "outputs": [
    {
     "name": "stdout",
     "output_type": "stream",
     "text": [
      " Volume in drive C has no label.\n",
      " Volume Serial Number is 1602-CA06\n",
      "\n",
      " Directory of C:\\Users\\mpilab\\Desktop\n",
      "\n",
      "11-07-2019  14:54    <DIR>          .\n",
      "11-07-2019  14:54    <DIR>          ..\n",
      "04-09-2018  15:30           113,952 airportuc.mdj\n",
      "21-06-2019  10:32            13,131 array.rap\n",
      "21-06-2019  10:30            12,838 array.rap.backup0\n",
      "21-06-2019  10:37            14,836 array.rap.backup1\n",
      "21-06-2019  10:24             9,757 array.rap.backup2\n",
      "21-06-2019  10:27            11,280 array.rap.backup3\n",
      "04-07-2019  10:12    <DIR>          git\n",
      "19-06-2019  13:15             2,059 Git Bash.lnk\n",
      "01-07-2019  11:28                38 gitam 221810401041.txt\n",
      "19-06-2019  11:02             9,078 images (1).jpg\n",
      "19-06-2019  11:22             7,908 images (2).jpg\n",
      "19-06-2019  12:12            35,594 images (3).jpg\n",
      "19-06-2019  10:59            11,539 images.jpg\n",
      "08-07-2019  12:27    <DIR>          NANDHINI\n",
      "05-07-2019  16:33           915,358 NATA_ClientSetup.exe\n",
      "19-06-2019  12:13           116,986 objkuOfhabjsi.jpg\n",
      "04-07-2019  10:18    <DIR>          ProbsolvingProgramming\n",
      "13-06-2019  10:32             2,575 RAPTOR.lnk\n",
      "11-07-2019  14:50    <DIR>          singledirectory\n",
      "02-07-2019  16:31            60,530 syllabus.pdf\n",
      "11-07-2019  14:54    <DIR>          testfolder\n",
      "19-06-2019  17:38             4,490 text1.rap\n",
      "19-06-2019  17:05             3,393 text1.rap.backup0\n",
      "19-06-2019  17:09             4,239 text1.rap.backup1\n",
      "19-06-2019  17:12             4,357 text1.rap.backup2\n",
      "21-06-2019  14:34                 0 untitled\n",
      "              21 File(s)      1,353,938 bytes\n",
      "               7 Dir(s)  149,382,541,312 bytes free\n"
     ]
    }
   ],
   "source": [
    "ls"
   ]
  },
  {
   "cell_type": "markdown",
   "metadata": {},
   "source": [
    " #  Creating multiple Directories"
   ]
  },
  {
   "cell_type": "code",
   "execution_count": null,
   "metadata": {},
   "outputs": [],
   "source": [
    "import os\n",
    "os.markedirs('2019/july/11')"
   ]
  },
  {
   "cell_type": "code",
   "execution_count": 55,
   "metadata": {},
   "outputs": [
    {
     "name": "stdout",
     "output_type": "stream",
     "text": [
      " Volume in drive C has no label.\n",
      " Volume Serial Number is 1602-CA06\n",
      "\n",
      " Directory of C:\\Users\\mpilab\\Desktop\n",
      "\n",
      "11-07-2019  14:54    <DIR>          .\n",
      "11-07-2019  14:54    <DIR>          ..\n",
      "04-09-2018  15:30           113,952 airportuc.mdj\n",
      "21-06-2019  10:32            13,131 array.rap\n",
      "21-06-2019  10:30            12,838 array.rap.backup0\n",
      "21-06-2019  10:37            14,836 array.rap.backup1\n",
      "21-06-2019  10:24             9,757 array.rap.backup2\n",
      "21-06-2019  10:27            11,280 array.rap.backup3\n",
      "04-07-2019  10:12    <DIR>          git\n",
      "19-06-2019  13:15             2,059 Git Bash.lnk\n",
      "01-07-2019  11:28                38 gitam 221810401041.txt\n",
      "19-06-2019  11:02             9,078 images (1).jpg\n",
      "19-06-2019  11:22             7,908 images (2).jpg\n",
      "19-06-2019  12:12            35,594 images (3).jpg\n",
      "19-06-2019  10:59            11,539 images.jpg\n",
      "08-07-2019  12:27    <DIR>          NANDHINI\n",
      "05-07-2019  16:33           915,358 NATA_ClientSetup.exe\n",
      "19-06-2019  12:13           116,986 objkuOfhabjsi.jpg\n",
      "04-07-2019  10:18    <DIR>          ProbsolvingProgramming\n",
      "13-06-2019  10:32             2,575 RAPTOR.lnk\n",
      "11-07-2019  14:50    <DIR>          singledirectory\n",
      "02-07-2019  16:31            60,530 syllabus.pdf\n",
      "11-07-2019  14:54    <DIR>          testfolder\n",
      "19-06-2019  17:38             4,490 text1.rap\n",
      "19-06-2019  17:05             3,393 text1.rap.backup0\n",
      "19-06-2019  17:09             4,239 text1.rap.backup1\n",
      "19-06-2019  17:12             4,357 text1.rap.backup2\n",
      "21-06-2019  14:34                 0 untitled\n",
      "              21 File(s)      1,353,938 bytes\n",
      "               7 Dir(s)  149,381,701,632 bytes free\n"
     ]
    }
   ],
   "source": [
    "ls"
   ]
  },
  {
   "cell_type": "markdown",
   "metadata": {},
   "source": [
    "### Filename Pattern Matching"
   ]
  },
  {
   "cell_type": "code",
   "execution_count": 79,
   "metadata": {},
   "outputs": [],
   "source": [
    "import os\n",
    "dirPath = 'git/'\n",
    "for f_name in os.listdir(dirPath):\n",
    "    if f_name.endswith('.ipynb'):\n",
    "        print(f_name)"
   ]
  },
  {
   "cell_type": "code",
   "execution_count": 82,
   "metadata": {},
   "outputs": [
    {
     "name": "stdout",
     "output_type": "stream",
     "text": [
      "C:\\Users\n"
     ]
    }
   ],
   "source": [
    "cd .."
   ]
  },
  {
   "cell_type": "code",
   "execution_count": null,
   "metadata": {},
   "outputs": [],
   "source": [
    "import os\n",
    "dirPath = 'git/'\n",
    "for f_name in os.listdir(dirPath):\n",
    "    if f_name.startswith('0'):\n",
    "        print(f_name)"
   ]
  },
  {
   "cell_type": "markdown",
   "metadata": {},
   "source": [
    "## Deleting Files and Directories"
   ]
  },
  {
   "cell_type": "code",
   "execution_count": 91,
   "metadata": {},
   "outputs": [
    {
     "name": "stdout",
     "output_type": "stream",
     "text": [
      "C:\\\n"
     ]
    }
   ],
   "source": [
    "cd .."
   ]
  },
  {
   "cell_type": "code",
   "execution_count": 94,
   "metadata": {
    "scrolled": true
   },
   "outputs": [
    {
     "name": "stdout",
     "output_type": "stream",
     "text": [
      " Volume in drive C has no label.\n",
      " Volume Serial Number is 1602-CA06\n",
      "\n",
      " Directory of C:\\\n",
      "\n",
      "11-06-2009  03:12                24 autoexec.bat\n",
      "11-06-2009  03:12                10 config.sys\n",
      "19-06-2018  14:30    <DIR>          Intel\n",
      "06-07-2019  16:14    <DIR>          Program Files\n",
      "26-06-2018  14:56    <DIR>          Users\n",
      "09-07-2018  12:14    <DIR>          Windows\n",
      "09-07-2018  16:17    <DIR>          Xilinx\n",
      "               2 File(s)             34 bytes\n",
      "               5 Dir(s)  149,380,206,592 bytes free\n"
     ]
    }
   ],
   "source": [
    "ls"
   ]
  },
  {
   "cell_type": "code",
   "execution_count": 96,
   "metadata": {},
   "outputs": [
    {
     "name": "stdout",
     "output_type": "stream",
     "text": [
      "C:\\\n"
     ]
    }
   ],
   "source": [
    "cd .. "
   ]
  },
  {
   "cell_type": "code",
   "execution_count": null,
   "metadata": {},
   "outputs": [],
   "source": [
    "import os\n",
    "data_file = 'file1.txt'\n",
    "os.remove(data_file)"
   ]
  },
  {
   "cell_type": "code",
   "execution_count": null,
   "metadata": {},
   "outputs": [],
   "source": [
    "data_dir = 'TestFolder'\n",
    "os.rmdir(data_dir)"
   ]
  },
  {
   "cell_type": "code",
   "execution_count": 99,
   "metadata": {},
   "outputs": [
    {
     "name": "stdout",
     "output_type": "stream",
     "text": [
      " Volume in drive C has no label.\n",
      " Volume Serial Number is 1602-CA06\n",
      "\n",
      " Directory of C:\\\n",
      "\n",
      "11-06-2009  03:12                24 autoexec.bat\n",
      "11-06-2009  03:12                10 config.sys\n",
      "19-06-2018  14:30    <DIR>          Intel\n",
      "06-07-2019  16:14    <DIR>          Program Files\n",
      "26-06-2018  14:56    <DIR>          Users\n",
      "09-07-2018  12:14    <DIR>          Windows\n",
      "09-07-2018  16:17    <DIR>          Xilinx\n",
      "               2 File(s)             34 bytes\n",
      "               5 Dir(s)  149,381,591,040 bytes free\n"
     ]
    }
   ],
   "source": [
    "ls"
   ]
  },
  {
   "cell_type": "code",
   "execution_count": null,
   "metadata": {},
   "outputs": [],
   "source": [
    "import shutil\n",
    "data_dir = '2019'\n",
    "shutil.rmtree(data_dir)"
   ]
  },
  {
   "cell_type": "markdown",
   "metadata": {},
   "source": [
    "### Regular Expressions\n",
    "- Used in notations of pattern\n",
    "- Patterns(RE) represents set of the values\n"
   ]
  }
 ],
 "metadata": {
  "kernelspec": {
   "display_name": "Python 3",
   "language": "python",
   "name": "python3"
  },
  "language_info": {
   "codemirror_mode": {
    "name": "ipython",
    "version": 3
   },
   "file_extension": ".py",
   "mimetype": "text/x-python",
   "name": "python",
   "nbconvert_exporter": "python",
   "pygments_lexer": "ipython3",
   "version": "3.7.3"
  }
 },
 "nbformat": 4,
 "nbformat_minor": 2
}
